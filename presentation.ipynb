{
 "metadata": {
  "name": "",
  "signature": "sha256:3f4f1e4f5e1c9878a300fe45f903730da59597c6effb9440913b56ea616ccda2"
 },
 "nbformat": 3,
 "nbformat_minor": 0,
 "worksheets": [
  {
   "cells": [
    {
     "cell_type": "heading",
     "level": 1,
     "metadata": {},
     "source": [
      "Flotilla: An open-source toolkit for large-scale RNA-seq analysis\n"
     ]
    },
    {
     "cell_type": "markdown",
     "metadata": {
      "slideshow": {
       "slide_type": "-"
      }
     },
     "source": [
      "These slides: http://github.com/olgabot/pydata2014biodata\n",
      "\n",
      "![](https://raw.githubusercontent.com/YeoLab/flotilla/master/flotilla.png)\n",
      "\n",
      "\n",
      "* Olga Botvinnik\n",
      "* 3rd year Bioinformatics PhD Student\n",
      "* Prof. Gene Yeo Lab (@Yeo_Lab) - RNA Biology\n",
      "* University of California, San Diego\n",
      "* @olgabot | obot@alum.mit.edu\n",
      "\n",
      "PyData NYC | November 23rd, 2014"
     ]
    },
    {
     "cell_type": "heading",
     "level": 2,
     "metadata": {},
     "source": [
      "Outline\n"
     ]
    },
    {
     "cell_type": "markdown",
     "metadata": {
      "slideshow": {
       "slide_type": "slide"
      }
     },
     "source": [
      "* Overview\n",
      "    * Design goals (reproducibility!! open science!!)\n",
      "    * How to install `flotilla` (docker/pypi/github)\n",
      "    * Model/View/Controller + Computer\n",
      "    * Quick look at data models\n",
      "* Why is single-cell RNA-seq an awesome space to develop tools?\n",
      "    * A brief history of sequencing\n",
      "    * Why single cells are cool\n",
      "* Demo\n",
      "    * Load a sample dataset (pre-curated)\n",
      "    * Interactive* PCA\n",
      "    * Interactive* Graphs/Networks\n",
      "    * Interactive* Classifier\n",
      "    * Interactive* Clusteredheatmap\n",
      "    * Interactive* Correlations\n",
      "* Future work\n",
      "    * Working with YOU!\n",
      "\n",
      "*Interactive = Using the IPython Interactive widgets"
     ]
    },
    {
     "cell_type": "heading",
     "level": 2,
     "metadata": {},
     "source": [
      "Design goals"
     ]
    },
    {
     "cell_type": "heading",
     "level": 3,
     "metadata": {},
     "source": [
      "Bioinformatics is not the problem"
     ]
    },
    {
     "cell_type": "markdown",
     "metadata": {},
     "source": [
      "The problem is not the amount of data or the ability to process it, it is the ability to **think** about it."
     ]
    },
    {
     "cell_type": "heading",
     "level": 4,
     "metadata": {},
     "source": [
      "A brief history of sequencing"
     ]
    },
    {
     "cell_type": "heading",
     "level": 3,
     "metadata": {},
     "source": [
      "Cost per genome sequencing is plummetting faster than Moore's law\n",
      "\n"
     ]
    },
    {
     "cell_type": "markdown",
     "metadata": {},
     "source": [
      "![](http://www.genome.gov/images/content/cost_genome.jpg)"
     ]
    },
    {
     "cell_type": "heading",
     "level": 5,
     "metadata": {},
     "source": [
      "How? \n",
      "\n"
     ]
    },
    {
     "cell_type": "markdown",
     "metadata": {},
     "source": [
      "Old way of sequencing: one strand at a time\n",
      "\n",
      "![](http://scilogs.be/starttoknow/gallery/4/sequencing.jpg)\n",
      "\n",
      "For modern datasets, sequencing is most often performed using Illumina's Hi-Seq 2000 or 2500 (currently, their newest product, Hi-Seq X 10 is only approved for genomic, not transcriptomic analyses)\n",
      "![](http://d0.awsstatic.com/logos/customers/illumina-logo.png)\n",
      "![](http://assets.illumina.com/content/dam/illumina-marketing/images/home/_v2/updated_ngs_section_v3.jpg)\n",
      "\n",
      "Lots of pipelines available to go from raw sequencing data to gene expression values, but the difficult part is the interpretation."
     ]
    },
    {
     "cell_type": "heading",
     "level": 3,
     "metadata": {},
     "source": [
      "Data-driven conversations about biology"
     ]
    },
    {
     "cell_type": "markdown",
     "metadata": {
      "slideshow": {
       "slide_type": "fragment"
      }
     },
     "source": [
      " * interactive data exploration "
     ]
    },
    {
     "cell_type": "markdown",
     "metadata": {
      "slideshow": {
       "slide_type": "fragment"
      }
     },
     "source": [
      " * reduce the time from idea to answers"
     ]
    },
    {
     "cell_type": "markdown",
     "metadata": {
      "slideshow": {
       "slide_type": "fragment"
      }
     },
     "source": [
      " * \"let biologists do biology\" "
     ]
    },
    {
     "cell_type": "markdown",
     "metadata": {
      "slideshow": {
       "slide_type": "fragment"
      }
     },
     "source": [
      " * reproducibility"
     ]
    },
    {
     "cell_type": "markdown",
     "metadata": {
      "slideshow": {
       "slide_type": "fragment"
      }
     },
     "source": [
      " * transparency"
     ]
    },
    {
     "cell_type": "markdown",
     "metadata": {
      "slideshow": {
       "slide_type": "fragment"
      }
     },
     "source": [
      " * fight data senescence (genomics data have long-term value)"
     ]
    },
    {
     "cell_type": "heading",
     "level": 3,
     "metadata": {},
     "source": [
      "Applications"
     ]
    },
    {
     "cell_type": "markdown",
     "metadata": {
      "slideshow": {
       "slide_type": "fragment"
      }
     },
     "source": [
      "  * Live-coding in meetings\n",
      "  \n",
      "  * Data sharing\n",
      "  \n",
      "  * Replication in multiple computational environments."
     ]
    },
    {
     "cell_type": "heading",
     "level": 2,
     "metadata": {},
     "source": [
      "How to get `flotilla`"
     ]
    },
    {
     "cell_type": "markdown",
     "metadata": {
      "slideshow": {
       "slide_type": "slide"
      }
     },
     "source": [
      "We have several methods of using flotilla:\n",
      "\n",
      "1. Docker. This will work from a fresh Linux/Mac machine. Windows untested :( \n",
      "2. PyPI. This is for if you already have the [Anaconda](http://continuum.io/downloads) Python distribution and/or Python scientific stack installed\n",
      "3. Github. This is for when you contribute your awesome features!"
     ]
    },
    {
     "cell_type": "heading",
     "level": 3,
     "metadata": {},
     "source": [
      "Docker Hub"
     ]
    },
    {
     "cell_type": "markdown",
     "metadata": {
      "slideshow": {
       "slide_type": "subslide"
      }
     },
     "source": [
      "\n",
      "![](http://i.imgur.com/Qg5xx4K.png)\n",
      "\n",
      "The `docker` Virtual Machine is re-built on <a href=\"http://hub.docker.com\">Docker Hub</a> with every change to `flotilla`. Use `-v` to mount host directories in the VM for read/write.\n",
      "\n",
      "See the documentation: http://yeolab.github.io/flotilla/docs/installation.html#docker-instructions\n",
      " "
     ]
    },
    {
     "cell_type": "heading",
     "level": 3,
     "metadata": {},
     "source": [
      "PyPI"
     ]
    },
    {
     "cell_type": "markdown",
     "metadata": {
      "slideshow": {
       "slide_type": "subslide"
      }
     },
     "source": [
      "\n",
      "\n",
      "![](https://www.python.org/static/img/python-logo@2x.png)\n",
      "\n",
      "PyPI is updated with every versioned release of `flotilla`\n",
      "\n",
      "    pip install flotilla\n"
     ]
    },
    {
     "cell_type": "heading",
     "level": 3,
     "metadata": {},
     "source": [
      "GitHub"
     ]
    },
    {
     "cell_type": "markdown",
     "metadata": {
      "slideshow": {
       "slide_type": "subslide"
      }
     },
     "source": [
      "\n",
      "![](https://octodex.github.com/images/labtocat.png)\n",
      "\n",
      "New features are available here, community interaction (request new features, watch our progress), report bugs (of course there are none), contribute new features, browse code.\n",
      "\n",
      "    git clone https://github.com/YeoLab/flotilla.git\n",
      "    cd flotilla\n",
      "    pip install .\n"
     ]
    },
    {
     "cell_type": "heading",
     "level": 2,
     "metadata": {},
     "source": [
      "What is single-cell RNA-Seq?"
     ]
    },
    {
     "cell_type": "heading",
     "level": 3,
     "metadata": {},
     "source": [
      "We don't just sequence genomes, we also sequence transcriptomes"
     ]
    },
    {
     "cell_type": "markdown",
     "metadata": {},
     "source": [
      "* ***transcriptome*** = all genes that are expressed (currently being used) in a sample\n",
      "* Genes are expressed as RNA molecules (like DNA, but more transient)\n",
      "\n",
      "![](http://3.bp.blogspot.com/-CbPtclMayF0/Tc55-LTxghI/AAAAAAAADCo/x7Soyvz3JHs/s1600/GeneExpression.gif)\n",
      "\n",
      "\n",
      "\n"
     ]
    },
    {
     "cell_type": "heading",
     "level": 3,
     "metadata": {},
     "source": [
      "Single-cell RNA-seq: Why?"
     ]
    },
    {
     "cell_type": "markdown",
     "metadata": {},
     "source": [
      "\n",
      "\n",
      "![](http://www.nature.com/polopoly_fs/7.7202.1351622021!/image/single-cell.jpg_gen/derivatives/landscape_630/single-cell.jpg)\n",
      "\n",
      "* By sequencing individual cells, we get much richer information about the system.\n",
      "* It's as if instead of asking \"what is the average eye color of a New Yorker?\" we get the actual distribution of all the diverse eye colors of individuals\n",
      "\n"
     ]
    },
    {
     "cell_type": "heading",
     "level": 3,
     "metadata": {},
     "source": [
      "Single-cell RNA-Seq: How?"
     ]
    },
    {
     "cell_type": "markdown",
     "metadata": {},
     "source": [
      "\n",
      "\n",
      "Capture single cells using Fluidigm's microfluidic chip (stochastic capture). In this chip, the RNA molecules are copied to DNA (more stable), and then amplified for sequencing.\n",
      "\n",
      "![](http://gqinnovationcenter.com/images/events/logo_Fluidigm.png)\n",
      "![](http://gecf.epfl.ch/files/content/sites/gecf/files/C1_array_float_callout_250.jpg)\n",
      "\n"
     ]
    },
    {
     "cell_type": "heading",
     "level": 2,
     "metadata": {},
     "source": [
      "Demo"
     ]
    },
    {
     "cell_type": "heading",
     "level": 3,
     "metadata": {},
     "source": [
      "Load test data from a single-cell paper"
     ]
    },
    {
     "cell_type": "markdown",
     "metadata": {},
     "source": [
      "\n",
      "\n",
      "We'll load a dataset we've prepared from the [Shalek and Satija, *et al*, *Nature* (2013)](http://www.ncbi.nlm.nih.gov/pubmed/23685454) paper. \n",
      "\n",
      "* Mouse bone-marrow derived dendritic cells (a type of immune cells), and subjected them to the immune insult of lipopolysaccharide (LPS). They wanted to study the heterogeneity of response to the immune reaction. \n",
      "* 18 cells, approximately 6000 gene expression values and 300 alterative splicing values (won't have time to get to that today, but you can explore on your own!) \n",
      "\n",
      "As a side note, I cleaned and prepared this dataset in a blog post (bit.ly/shalek2013) and recreated all the figures from the paper. Including supplementary figures! Overall, their results were reproducible. So check out that post if you're curious where this data came from.\n",
      "\n",
      "We will load this data with `flotilla.embark`, since we are about to **embark** on a journey of data exploration."
     ]
    },
    {
     "cell_type": "code",
     "collapsed": false,
     "input": [
      "# Make sure I don't have the data locally and I'm starting fresh every time\n",
      "! rm -rf /Users/olga/flotilla_projects/shalek2013\n",
      "\n",
      "import flotilla\n",
      "study = flotilla.embark(flotilla._shalek2013)"
     ],
     "language": "python",
     "metadata": {},
     "outputs": []
    },
    {
     "cell_type": "markdown",
     "metadata": {},
     "source": [
      "What the `study` object is, it is an interface to several different dataframes, and it knows how to integrate them together. The `Study` container has several other data models underneath it, such as `metadata`. In all these cases, the `DataModel.data` is the underlying pandas dataframe.\n",
      "\n",
      "(we learned the hard way that you shouldn't subclass pandas dataframes - just make them an attribute of your new cool object)"
     ]
    },
    {
     "cell_type": "code",
     "collapsed": false,
     "input": [
      "study.metadata.data.head()"
     ],
     "language": "python",
     "metadata": {},
     "outputs": []
    },
    {
     "cell_type": "markdown",
     "metadata": {},
     "source": [
      "And same with expression data, and so on."
     ]
    },
    {
     "cell_type": "code",
     "collapsed": false,
     "input": [
      "study.expression.data.head()"
     ],
     "language": "python",
     "metadata": {},
     "outputs": []
    },
    {
     "cell_type": "markdown",
     "metadata": {},
     "source": [
      "All data objects in `flotilla` inherit from `BaseData`, which has all kinds of fun functionality already built in, like dimensionality reduction and classification."
     ]
    },
    {
     "cell_type": "heading",
     "level": 2,
     "metadata": {},
     "source": [
      "Model, View, Controller *+ Computer*"
     ]
    },
    {
     "cell_type": "markdown",
     "metadata": {},
     "source": [
      "* Besides MVC, we also have a compute backend\n",
      "* Compute code is separate from the model and view code (controller = IPython notebook)\n",
      "* Make heavy use of scikit-learn, and subclass to `DataFramePCA` (yes I've heard about `scikit-pandas` and this is just a quick fix for now)\n",
      "    * Using our `DataFrameReducerBase`, adding new dimensionality reduction algorithms can be as easy as:\n",
      "    \n",
      "    \n",
      "    from sklearn.decomposition import PCA\n",
      "    \n",
      "    class DataFramePCA(DataFrameReducerBase, PCA):\n",
      "        pass\n",
      "\n",
      "Which is really fantastic, since adding new algorithms is often quite straightforward."
     ]
    },
    {
     "cell_type": "markdown",
     "metadata": {
      "slideshow": {
       "slide_type": "slide"
      }
     },
     "source": [
      "## Dimensionality reduction\n",
      "\n",
      "A common question we ask of our data is what does it look like when we reduce the data. Most often, we use PCA, and have tried others, but haven't made a convenient widget for it yet. There are quite a few different things you can do here:\n",
      "\n",
      "1. Perform PCA on different data types (expression and splicing)\n",
      "2. Use different subsets of samples or features\n",
      "3. Do featurewise PCA, i.e. on the transpose so now the features are the samples, and vice versa. Then, every point in the PCA plot is a gene, and the loadings are on the samples.\n",
      "4. Specify a link to a list of features, and perform PCA on just this subset\n",
      "5. Show the violinplots of the gene expression of the top features, in these samples\n",
      "6. Show the labels of the points on the plot (could be replaced by an javascript-based plot)\n",
      "7. Once you figure out what works, save the results to a local file (non-constant saving thanks to Jason Grout!)"
     ]
    },
    {
     "cell_type": "code",
     "collapsed": false,
     "input": [
      "# https://www.dropbox.com/s/652y6hb8zonxe4c/example_gene_list.txt?dl=0\n",
      "study.interactive_pca()"
     ],
     "language": "python",
     "metadata": {},
     "outputs": []
    },
    {
     "cell_type": "heading",
     "level": 2,
     "metadata": {},
     "source": [
      "Visualizing graphs (networks) of interaction"
     ]
    },
    {
     "cell_type": "markdown",
     "metadata": {},
     "source": [
      "To calculate a network between samples, we do:\n",
      "\n",
      "1. Reduce the data dimensionality using PCA\n",
      "2. Choose the first few reduced dimensions (default 5)\n",
      "3. Calculate covariances between samples on these reduced dimensions\n",
      "4. Use a covariance cutoff to choose whether we draw an edge between samples\n",
      "5. Use a degree cutoff to decide whether we'll plot that sample or not\n",
      "6. Use a weight function on the edges to aid in separating samples (arctan squared works nicely)\n",
      "7. Plot a \"heatmap\" of the expression of a gene of interest"
     ]
    },
    {
     "cell_type": "code",
     "collapsed": false,
     "input": [
      "study.interactive_graph()"
     ],
     "language": "python",
     "metadata": {},
     "outputs": []
    },
    {
     "cell_type": "heading",
     "level": 2,
     "metadata": {},
     "source": [
      "Classification"
     ]
    },
    {
     "cell_type": "markdown",
     "metadata": {},
     "source": [
      "To classify samples on features, we can choose several different parameters:\n",
      "\n",
      "1. As always: data type, sample and feature subsets\n",
      "2. Choose between a few different classifers\n",
      "3. Choose to categorize on different traits\n",
      "4. Use different coefficients to find the top features, i.e. top features have a score > coeff * scores.std() + scores.mean()\n",
      "5. Save the file using the parameters that work best for these data"
     ]
    },
    {
     "cell_type": "code",
     "collapsed": false,
     "input": [
      "study.interactive_classifier()"
     ],
     "language": "python",
     "metadata": {},
     "outputs": []
    },
    {
     "cell_type": "heading",
     "level": 2,
     "metadata": {},
     "source": [
      "Clustered heatmap (`clustermap`)"
     ]
    },
    {
     "cell_type": "markdown",
     "metadata": {},
     "source": [
      "New in the statistical visualiation library [seaborn](http://web.stanford.edu/~mwaskom/software/seaborn/index.html) 0.5.0, you can easily create clustered heatmaps with the command,\n",
      "\n",
      "    import seaborn as sns\n",
      "    sns.clustermap(data)\n",
      "\n",
      "We can use this nice function to easily look at different subsets of data. What's nice is that here we can play around with different:\n",
      "\n",
      "1. Distance metrics (\"metric\")\n",
      "2. Linkage methods (\"method\") - this is what calculates the dendrogram.\n",
      "3. Choose whether or not to scale the figure by the shape of the data. This way, the size of the figure is directly proportional to the size of the dataframe you give it.\n",
      "\n",
      "You may also have noticed that you can choose the figure size. This is because clustered heatmaps always look weird when you use defaults, especially if you have much more features than samples.\n",
      "\n",
      "3. Choose figure width and height.\n",
      "    \n",
      "***PSA: If you're not using seaborn already for your dataviz, you should!!!***"
     ]
    },
    {
     "cell_type": "code",
     "collapsed": false,
     "input": [
      "study.interactive_clustermap()"
     ],
     "language": "python",
     "metadata": {},
     "outputs": []
    },
    {
     "cell_type": "heading",
     "level": 2,
     "metadata": {},
     "source": [
      "Clustered correlations"
     ]
    },
    {
     "cell_type": "markdown",
     "metadata": {},
     "source": [
      "A little more subtle, we can also look at the correlations between samples or features interactively. Here, if we change the feature subset, we change the data on which the correlations are being calculated. These inputs are similar to the `interactive_clustermap`."
     ]
    },
    {
     "cell_type": "code",
     "collapsed": false,
     "input": [
      "study.interactive_correlations()"
     ],
     "language": "python",
     "metadata": {},
     "outputs": []
    },
    {
     "cell_type": "heading",
     "level": 2,
     "metadata": {},
     "source": [
      "Contribute to `flotilla`!"
     ]
    },
    {
     "cell_type": "markdown",
     "metadata": {},
     "source": [
      "Flotilla is under active development. Check out our issues page for planned features. A broad overview of where we'd like to go:\n",
      "\n",
      "* javascript-based plots for hover-over and zooming interactivity\n",
      "* Add more dimensionality reduction algorithms to interactive widgets. Code exists for calculating the reduced data, but the plumbing to create the widget needs to be reworked\n",
      "* Look into the `scikit-learn` pipelines for classification/regression\n",
      "* Classify/regress on arbitrary features, interactively\n",
      "* Support more data types. Non-biological data is welcome!"
     ]
    },
    {
     "cell_type": "markdown",
     "metadata": {},
     "source": [
      "![](http://imgur.com/YCDZhnl.png)\n"
     ]
    },
    {
     "cell_type": "heading",
     "level": 2,
     "metadata": {},
     "source": [
      "Acknowledgements"
     ]
    },
    {
     "cell_type": "markdown",
     "metadata": {},
     "source": [
      "\n",
      " * **Gene Yeo** and the Yeo Lab, especially:\n",
      "    * **Michael Lovci** <--- pioneered the interactive widgets\n",
      "    * **Yan Song** <--- Fearlessly performs scary wet-lab experiments, and uses `flotilla` to analyze them. Before Travis-CI, there was \"Yan-CI\"\n",
      "    * Boyko Kakaradov\n",
      "    * Patrick Liu\n",
      "    * Leen Jamal\n",
      "    * Gabriel Pratt\n",
      "    * Fernandno Martinez\n",
      "\n",
      "![](http://numfocus.org/theme/img/numfocus_logo.png)\n",
      "![](https://ndseg.asee.org/images/front/b.jpg)\n",
      "![](http://i.imgur.com/BEpKT8z.jpg)"
     ]
    }
   ],
   "metadata": {}
  }
 ]
}